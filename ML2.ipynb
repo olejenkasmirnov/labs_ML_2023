{
  "nbformat": 4,
  "nbformat_minor": 0,
  "metadata": {
    "colab": {
      "provenance": []
    },
    "kernelspec": {
      "name": "python3",
      "display_name": "Python 3"
    },
    "language_info": {
      "name": "python"
    }
  },
  "cells": [
    {
      "cell_type": "markdown",
      "source": [
        "2. Глобальная оптимизация и метаэврестические алгоритмы\n",
        "     1. В Pygmo запрограммировать две своих тестовых функции и найти их оптимум 3 разными алгоритмами доступными в библиотеке и получить таблицу сравнения"
      ],
      "metadata": {
        "id": "UW4ugQpXn-Uy"
      }
    },
    {
      "cell_type": "code",
      "source": [
        "%pip install pygmo"
      ],
      "metadata": {
        "colab": {
          "base_uri": "https://localhost:8080/"
        },
        "id": "dMvZ-kdzxo0V",
        "outputId": "2f1e2c8b-c1b8-4ab2-f5a8-e357ba0ec0e6"
      },
      "execution_count": 1,
      "outputs": [
        {
          "output_type": "stream",
          "name": "stdout",
          "text": [
            "Collecting pygmo\n",
            "  Downloading pygmo-2.19.5-cp310-cp310-manylinux_2_28_x86_64.whl (14.7 MB)\n",
            "\u001b[2K     \u001b[90m━━━━━━━━━━━━━━━━━━━━━━━━━━━━━━━━━━━━━━━━\u001b[0m \u001b[32m14.7/14.7 MB\u001b[0m \u001b[31m46.4 MB/s\u001b[0m eta \u001b[36m0:00:00\u001b[0m\n",
            "\u001b[?25hRequirement already satisfied: numpy in /usr/local/lib/python3.10/dist-packages (from pygmo) (1.23.5)\n",
            "Requirement already satisfied: cloudpickle in /usr/local/lib/python3.10/dist-packages (from pygmo) (2.2.1)\n",
            "Requirement already satisfied: scipy in /usr/local/lib/python3.10/dist-packages (from pygmo) (1.11.4)\n",
            "Installing collected packages: pygmo\n",
            "Successfully installed pygmo-2.19.5\n"
          ]
        }
      ]
    },
    {
      "cell_type": "code",
      "source": [
        "import pygmo as pg\n",
        "\n",
        "table = []\n",
        "# Определение задачи оптимизации\n",
        "class MyProblem:\n",
        "  def __init__(self):\n",
        "    self.dim = 1 # Размерность пространства параметров\n",
        "\n",
        "  def fitness(self, x):\n",
        "    f1 = (x[0] + 2*x[1] - 7)**2\n",
        "    f2 = (2*x[0] + x[1] - 5)**2\n",
        "    return [f1 + f2]\n",
        "\n",
        "  def get_bounds(self):\n",
        "    return ([-10, -10], [10, 10]) # Ограничения на переменные\n",
        "\n",
        "# Создание экземпляра задачи оптимизации\n",
        "prob = pg.problem(MyProblem())\n",
        "\n",
        "# Инициализация алгоритмов оптимизации\n",
        "algo_de = pg.algorithm(pg.de(gen = 50))  # Differential Evolution\n",
        "algo_pso = pg.algorithm(pg.pso(gen = 50))  # Particle Swarm Optimization\n",
        "algo_cmaes = pg.algorithm(pg.cmaes(gen = 50)) # Covariance Matrix Adaptation Evolution Strategy (CMA-ES)\n",
        "\n",
        "# Запуск оптимизации\n",
        "pop_de = pg.population(prob, 10)\n",
        "pop_pso = pg.population(prob, 10)\n",
        "pop_cmaes = pg.population(prob, 10)\n",
        "\n",
        "pop_de = algo_de.evolve(pop_de)\n",
        "table.append(['Differential Evolution', pop_de.champion_f[0], pop_de.champion_x])\n",
        "pop_pso = algo_pso.evolve(pop_pso)\n",
        "table.append(['Particle Swarm Optimization', pop_pso.champion_f[0], pop_pso.champion_x])\n",
        "pop_cmaes = algo_cmaes.evolve(pop_cmaes)\n",
        "table.append(['CMA-ES', pop_cmaes.champion_f[0], pop_cmaes.champion_x])\n",
        "# Вывод таблицы сравнения результатов\n",
        "print('Algorithm\\t\\t\\tOptimum\\t\\t\\t\\tSolution')\n",
        "for row in table:\n",
        "    print(f'{row[0]}\\t\\t{row[1]}\\t\\t{row[2]}')\n",
        "\n"
      ],
      "metadata": {
        "colab": {
          "base_uri": "https://localhost:8080/"
        },
        "id": "pIYF27-nxzWX",
        "outputId": "0ef4a2e6-d1b0-49aa-92f1-32c6ba15e90e"
      },
      "execution_count": 15,
      "outputs": [
        {
          "output_type": "stream",
          "name": "stdout",
          "text": [
            "Algorithm\t\t\tOptimum\t\t\t\tSolution\n",
            "Differential Evolution\t\t1.7295633151215445e-06\t\t[1.0005955  2.99905643]\n",
            "Particle Swarm Optimization\t\t2.746960677600357e-06\t\t[1.00021833 2.99909579]\n",
            "CMA-ES\t\t1.1870257213511177e-08\t\t[1.00007859 2.99994941]\n"
          ]
        }
      ]
    },
    {
      "cell_type": "code",
      "source": [
        "table = []\n",
        "# Определение задачи оптимизации\n",
        "class MyProblem:\n",
        "    def __init__(self):\n",
        "        self.dim = 1  # Размерность пространства параметров\n",
        "\n",
        "    def fitness(self, x):\n",
        "        f1 = (1.5-x[0]+x[0]*x[1])**2\n",
        "        f2 = (2.25-x[0]+x[0]*(x[1]**2))**2\n",
        "        f3 = (2.625-x[0]+x[0]*(x[1]**3))**2\n",
        "        return [f1 + f2 + f3]\n",
        "\n",
        "    def get_bounds(self):\n",
        "        return ([-10, -10], [10, 10])  # Ограничения на переменные\n",
        "\n",
        "# Создание экземпляра задачи оптимизации\n",
        "prob = pg.problem(MyProblem())\n",
        "\n",
        "# Инициализация алгоритмов оптимизации\n",
        "algo_de = pg.algorithm(pg.de(gen = 50))  # Differential Evolution\n",
        "algo_pso = pg.algorithm(pg.pso(gen = 50))  # Particle Swarm Optimization\n",
        "algo_cmaes = pg.algorithm(pg.cmaes(gen = 50))  # Covariance Matrix Adaptation Evolution Strategy (CMA-ES)\n",
        "\n",
        "# Запуск оптимизации\n",
        "pop_de = pg.population(prob, 10)\n",
        "pop_pso = pg.population(prob, 10)\n",
        "pop_cmaes = pg.population(prob, 10)\n",
        "\n",
        "pop_de = algo_de.evolve(pop_de)\n",
        "table.append(['Differential Evolution', pop_de.champion_f[0], pop_de.champion_x])\n",
        "pop_pso = algo_pso.evolve(pop_pso)\n",
        "table.append(['Particle Swarm Optimization', pop_pso.champion_f[0], pop_pso.champion_x])\n",
        "pop_cmaes = algo_cmaes.evolve(pop_cmaes)\n",
        "table.append(['CMA-ES', pop_cmaes.champion_f[0], pop_cmaes.champion_x])\n",
        "# Вывод таблицы сравнения результатов\n",
        "print('Algorithm\\t\\t\\tOptimum\\t\\t\\t\\tSolution')\n",
        "for row in table:\n",
        "    print(f'{row[0]}\\t\\t{row[1]}\\t\\t{row[2]}')"
      ],
      "metadata": {
        "colab": {
          "base_uri": "https://localhost:8080/"
        },
        "id": "8tJjVSrKzxxz",
        "outputId": "7d054890-bbf4-43be-e2b1-1b39820d99c7"
      },
      "execution_count": 16,
      "outputs": [
        {
          "output_type": "stream",
          "name": "stdout",
          "text": [
            "Algorithm\t\t\tOptimum\t\t\t\tSolution\n",
            "Differential Evolution\t\t1.1092172465031027e-05\t\t[3.00757035 0.50216392]\n",
            "Particle Swarm Optimization\t\t2.2321858933159414e-08\t\t[3.00030275 0.50005685]\n",
            "CMA-ES\t\t4.911059980998668e-09\t\t[3.00013164 0.50002301]\n"
          ]
        }
      ]
    }
  ]
}